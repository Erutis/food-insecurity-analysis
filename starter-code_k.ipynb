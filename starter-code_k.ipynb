{
 "cells": [
  {
   "cell_type": "markdown",
   "id": "3cfa4c66-8396-4532-8b4b-a5f3be503974",
   "metadata": {},
   "source": [
    "# Data Cleaning & Exploration\n"
   ]
  },
  {
   "cell_type": "markdown",
   "id": "dc4ceeb3-6cf2-47d2-a3f4-0219020731f4",
   "metadata": {},
   "source": [
    "Keywords to know:\n",
    "\n",
    "LI - Low Income\n",
    "LA - Low Access\n",
    "\n",
    "Data Dictionaries can be found under `datasets/original_data_files` in the second sheets of the original Excel files. \n",
    "\n",
    "More information on data decisions can be found in `datasets/original_data_files/FoodAccessResearchAtlasDocumentation2010.pdf`"
   ]
  },
  {
   "cell_type": "code",
   "execution_count": 3,
   "id": "078d1c2d-8715-4031-b430-518bb4020ac9",
   "metadata": {},
   "outputs": [],
   "source": [
    "import pandas as pd\n",
    "import numpy as np\n",
    "import seaborn as sns\n",
    "import matplotlib.pyplot as plt"
   ]
  },
  {
   "cell_type": "code",
   "execution_count": 4,
   "id": "b585dc01-47a1-48d5-9c94-77a0f8dafe98",
   "metadata": {},
   "outputs": [],
   "source": [
    "data_2019 = pd.read_csv('datasets/2019.csv', index_col=0)"
   ]
  },
  {
   "cell_type": "code",
   "execution_count": 5,
   "id": "84922423-6a92-42a1-8c35-40aff19243f2",
   "metadata": {},
   "outputs": [],
   "source": [
    "data_2010 = pd.read_csv('datasets/2010.csv', index_col=0)"
   ]
  },
  {
   "cell_type": "markdown",
   "id": "9fc95a87-dfa8-49bb-a26d-6523a7f16633",
   "metadata": {},
   "source": [
    "The 2019 dataset has 147 columns. The 2010 dataset has 65 columns. "
   ]
  },
  {
   "cell_type": "code",
   "execution_count": 6,
   "id": "81ddc3d4-c18b-41bd-9384-06709c94146e",
   "metadata": {},
   "outputs": [],
   "source": [
    "data_2019.columns = data_2019.columns.str.lower()"
   ]
  },
  {
   "cell_type": "code",
   "execution_count": 7,
   "id": "ae3a2432-8f83-47c1-897f-1e2c2646c7f2",
   "metadata": {},
   "outputs": [
    {
     "data": {
      "text/html": [
       "<div>\n",
       "<style scoped>\n",
       "    .dataframe tbody tr th:only-of-type {\n",
       "        vertical-align: middle;\n",
       "    }\n",
       "\n",
       "    .dataframe tbody tr th {\n",
       "        vertical-align: top;\n",
       "    }\n",
       "\n",
       "    .dataframe thead th {\n",
       "        text-align: right;\n",
       "    }\n",
       "</style>\n",
       "<table border=\"1\" class=\"dataframe\">\n",
       "  <thead>\n",
       "    <tr style=\"text-align: right;\">\n",
       "      <th></th>\n",
       "      <th>censustract</th>\n",
       "      <th>state</th>\n",
       "      <th>county</th>\n",
       "      <th>urban</th>\n",
       "      <th>pop2010</th>\n",
       "      <th>ohu2010</th>\n",
       "      <th>groupquartersflag</th>\n",
       "      <th>numgqtrs</th>\n",
       "      <th>pctgqtrs</th>\n",
       "      <th>lilatracts_1and10</th>\n",
       "      <th>...</th>\n",
       "      <th>tractseniors</th>\n",
       "      <th>tractwhite</th>\n",
       "      <th>tractblack</th>\n",
       "      <th>tractasian</th>\n",
       "      <th>tractnhopi</th>\n",
       "      <th>tractaian</th>\n",
       "      <th>tractomultir</th>\n",
       "      <th>tracthispanic</th>\n",
       "      <th>tracthunv</th>\n",
       "      <th>tractsnap</th>\n",
       "    </tr>\n",
       "  </thead>\n",
       "  <tbody>\n",
       "    <tr>\n",
       "      <th>0</th>\n",
       "      <td>1001020100</td>\n",
       "      <td>Alabama</td>\n",
       "      <td>Autauga County</td>\n",
       "      <td>1</td>\n",
       "      <td>1912</td>\n",
       "      <td>693</td>\n",
       "      <td>0</td>\n",
       "      <td>0.0</td>\n",
       "      <td>0.000000</td>\n",
       "      <td>0</td>\n",
       "      <td>...</td>\n",
       "      <td>221.0</td>\n",
       "      <td>1622.0</td>\n",
       "      <td>217.0</td>\n",
       "      <td>14.0</td>\n",
       "      <td>0.0</td>\n",
       "      <td>14.0</td>\n",
       "      <td>45.0</td>\n",
       "      <td>44.0</td>\n",
       "      <td>6.0</td>\n",
       "      <td>102.0</td>\n",
       "    </tr>\n",
       "    <tr>\n",
       "      <th>1</th>\n",
       "      <td>1001020200</td>\n",
       "      <td>Alabama</td>\n",
       "      <td>Autauga County</td>\n",
       "      <td>1</td>\n",
       "      <td>2170</td>\n",
       "      <td>743</td>\n",
       "      <td>0</td>\n",
       "      <td>181.0</td>\n",
       "      <td>8.341014</td>\n",
       "      <td>1</td>\n",
       "      <td>...</td>\n",
       "      <td>214.0</td>\n",
       "      <td>888.0</td>\n",
       "      <td>1217.0</td>\n",
       "      <td>5.0</td>\n",
       "      <td>0.0</td>\n",
       "      <td>5.0</td>\n",
       "      <td>55.0</td>\n",
       "      <td>75.0</td>\n",
       "      <td>89.0</td>\n",
       "      <td>156.0</td>\n",
       "    </tr>\n",
       "    <tr>\n",
       "      <th>2</th>\n",
       "      <td>1001020300</td>\n",
       "      <td>Alabama</td>\n",
       "      <td>Autauga County</td>\n",
       "      <td>1</td>\n",
       "      <td>3373</td>\n",
       "      <td>1256</td>\n",
       "      <td>0</td>\n",
       "      <td>0.0</td>\n",
       "      <td>0.000000</td>\n",
       "      <td>0</td>\n",
       "      <td>...</td>\n",
       "      <td>439.0</td>\n",
       "      <td>2576.0</td>\n",
       "      <td>647.0</td>\n",
       "      <td>17.0</td>\n",
       "      <td>5.0</td>\n",
       "      <td>11.0</td>\n",
       "      <td>117.0</td>\n",
       "      <td>87.0</td>\n",
       "      <td>99.0</td>\n",
       "      <td>172.0</td>\n",
       "    </tr>\n",
       "    <tr>\n",
       "      <th>3</th>\n",
       "      <td>1001020400</td>\n",
       "      <td>Alabama</td>\n",
       "      <td>Autauga County</td>\n",
       "      <td>1</td>\n",
       "      <td>4386</td>\n",
       "      <td>1722</td>\n",
       "      <td>0</td>\n",
       "      <td>0.0</td>\n",
       "      <td>0.000000</td>\n",
       "      <td>0</td>\n",
       "      <td>...</td>\n",
       "      <td>904.0</td>\n",
       "      <td>4086.0</td>\n",
       "      <td>193.0</td>\n",
       "      <td>18.0</td>\n",
       "      <td>4.0</td>\n",
       "      <td>11.0</td>\n",
       "      <td>74.0</td>\n",
       "      <td>85.0</td>\n",
       "      <td>21.0</td>\n",
       "      <td>98.0</td>\n",
       "    </tr>\n",
       "    <tr>\n",
       "      <th>4</th>\n",
       "      <td>1001020500</td>\n",
       "      <td>Alabama</td>\n",
       "      <td>Autauga County</td>\n",
       "      <td>1</td>\n",
       "      <td>10766</td>\n",
       "      <td>4082</td>\n",
       "      <td>0</td>\n",
       "      <td>181.0</td>\n",
       "      <td>1.681219</td>\n",
       "      <td>0</td>\n",
       "      <td>...</td>\n",
       "      <td>1126.0</td>\n",
       "      <td>8666.0</td>\n",
       "      <td>1437.0</td>\n",
       "      <td>296.0</td>\n",
       "      <td>9.0</td>\n",
       "      <td>48.0</td>\n",
       "      <td>310.0</td>\n",
       "      <td>355.0</td>\n",
       "      <td>230.0</td>\n",
       "      <td>339.0</td>\n",
       "    </tr>\n",
       "  </tbody>\n",
       "</table>\n",
       "<p>5 rows × 147 columns</p>\n",
       "</div>"
      ],
      "text/plain": [
       "   censustract    state          county  urban  pop2010  ohu2010  \\\n",
       "0   1001020100  Alabama  Autauga County      1     1912      693   \n",
       "1   1001020200  Alabama  Autauga County      1     2170      743   \n",
       "2   1001020300  Alabama  Autauga County      1     3373     1256   \n",
       "3   1001020400  Alabama  Autauga County      1     4386     1722   \n",
       "4   1001020500  Alabama  Autauga County      1    10766     4082   \n",
       "\n",
       "   groupquartersflag  numgqtrs  pctgqtrs  lilatracts_1and10  ...  \\\n",
       "0                  0       0.0  0.000000                  0  ...   \n",
       "1                  0     181.0  8.341014                  1  ...   \n",
       "2                  0       0.0  0.000000                  0  ...   \n",
       "3                  0       0.0  0.000000                  0  ...   \n",
       "4                  0     181.0  1.681219                  0  ...   \n",
       "\n",
       "   tractseniors  tractwhite  tractblack  tractasian  tractnhopi  tractaian  \\\n",
       "0         221.0      1622.0       217.0        14.0         0.0       14.0   \n",
       "1         214.0       888.0      1217.0         5.0         0.0        5.0   \n",
       "2         439.0      2576.0       647.0        17.0         5.0       11.0   \n",
       "3         904.0      4086.0       193.0        18.0         4.0       11.0   \n",
       "4        1126.0      8666.0      1437.0       296.0         9.0       48.0   \n",
       "\n",
       "   tractomultir  tracthispanic  tracthunv  tractsnap  \n",
       "0          45.0           44.0        6.0      102.0  \n",
       "1          55.0           75.0       89.0      156.0  \n",
       "2         117.0           87.0       99.0      172.0  \n",
       "3          74.0           85.0       21.0       98.0  \n",
       "4         310.0          355.0      230.0      339.0  \n",
       "\n",
       "[5 rows x 147 columns]"
      ]
     },
     "execution_count": 7,
     "metadata": {},
     "output_type": "execute_result"
    }
   ],
   "source": [
    "data_2019.head()"
   ]
  },
  {
   "cell_type": "code",
   "execution_count": 8,
   "id": "5649b545-02ef-4b96-b9c8-62ebb185464e",
   "metadata": {},
   "outputs": [],
   "source": [
    "data_2010.columns = data_2010.columns.str.lower()"
   ]
  },
  {
   "cell_type": "code",
   "execution_count": 9,
   "id": "d3b37bf8-50a2-4206-8831-54b9e690f955",
   "metadata": {},
   "outputs": [
    {
     "data": {
      "text/html": [
       "<div>\n",
       "<style scoped>\n",
       "    .dataframe tbody tr th:only-of-type {\n",
       "        vertical-align: middle;\n",
       "    }\n",
       "\n",
       "    .dataframe tbody tr th {\n",
       "        vertical-align: top;\n",
       "    }\n",
       "\n",
       "    .dataframe thead th {\n",
       "        text-align: right;\n",
       "    }\n",
       "</style>\n",
       "<table border=\"1\" class=\"dataframe\">\n",
       "  <thead>\n",
       "    <tr style=\"text-align: right;\">\n",
       "      <th></th>\n",
       "      <th>censustract</th>\n",
       "      <th>state</th>\n",
       "      <th>county</th>\n",
       "      <th>lilatracts_1and10</th>\n",
       "      <th>lilatracts_halfand10</th>\n",
       "      <th>lilatracts_1and20</th>\n",
       "      <th>lilatracts_vehicle</th>\n",
       "      <th>urban</th>\n",
       "      <th>rural</th>\n",
       "      <th>la1and10</th>\n",
       "      <th>...</th>\n",
       "      <th>lapop20</th>\n",
       "      <th>lapop20share</th>\n",
       "      <th>lalowi20</th>\n",
       "      <th>lalowi20share</th>\n",
       "      <th>lakids20</th>\n",
       "      <th>lakids20share</th>\n",
       "      <th>laseniors20</th>\n",
       "      <th>laseniors20share</th>\n",
       "      <th>lahunv20</th>\n",
       "      <th>lahunv20share</th>\n",
       "    </tr>\n",
       "  </thead>\n",
       "  <tbody>\n",
       "    <tr>\n",
       "      <th>0</th>\n",
       "      <td>1001020100</td>\n",
       "      <td>AL</td>\n",
       "      <td>Autauga</td>\n",
       "      <td>0</td>\n",
       "      <td>0</td>\n",
       "      <td>0</td>\n",
       "      <td>0</td>\n",
       "      <td>1</td>\n",
       "      <td>0</td>\n",
       "      <td>1</td>\n",
       "      <td>...</td>\n",
       "      <td>0.0</td>\n",
       "      <td>0.0</td>\n",
       "      <td>0.0</td>\n",
       "      <td>0.0</td>\n",
       "      <td>0.0</td>\n",
       "      <td>0.0</td>\n",
       "      <td>0.0</td>\n",
       "      <td>0.0</td>\n",
       "      <td>0.0</td>\n",
       "      <td>0.0</td>\n",
       "    </tr>\n",
       "    <tr>\n",
       "      <th>1</th>\n",
       "      <td>1001020200</td>\n",
       "      <td>AL</td>\n",
       "      <td>Autauga</td>\n",
       "      <td>0</td>\n",
       "      <td>0</td>\n",
       "      <td>0</td>\n",
       "      <td>0</td>\n",
       "      <td>1</td>\n",
       "      <td>0</td>\n",
       "      <td>0</td>\n",
       "      <td>...</td>\n",
       "      <td>0.0</td>\n",
       "      <td>0.0</td>\n",
       "      <td>0.0</td>\n",
       "      <td>0.0</td>\n",
       "      <td>0.0</td>\n",
       "      <td>0.0</td>\n",
       "      <td>0.0</td>\n",
       "      <td>0.0</td>\n",
       "      <td>0.0</td>\n",
       "      <td>0.0</td>\n",
       "    </tr>\n",
       "    <tr>\n",
       "      <th>2</th>\n",
       "      <td>1001020300</td>\n",
       "      <td>AL</td>\n",
       "      <td>Autauga</td>\n",
       "      <td>0</td>\n",
       "      <td>0</td>\n",
       "      <td>0</td>\n",
       "      <td>0</td>\n",
       "      <td>1</td>\n",
       "      <td>0</td>\n",
       "      <td>1</td>\n",
       "      <td>...</td>\n",
       "      <td>0.0</td>\n",
       "      <td>0.0</td>\n",
       "      <td>0.0</td>\n",
       "      <td>0.0</td>\n",
       "      <td>0.0</td>\n",
       "      <td>0.0</td>\n",
       "      <td>0.0</td>\n",
       "      <td>0.0</td>\n",
       "      <td>0.0</td>\n",
       "      <td>0.0</td>\n",
       "    </tr>\n",
       "    <tr>\n",
       "      <th>3</th>\n",
       "      <td>1001020400</td>\n",
       "      <td>AL</td>\n",
       "      <td>Autauga</td>\n",
       "      <td>0</td>\n",
       "      <td>0</td>\n",
       "      <td>0</td>\n",
       "      <td>0</td>\n",
       "      <td>1</td>\n",
       "      <td>0</td>\n",
       "      <td>1</td>\n",
       "      <td>...</td>\n",
       "      <td>0.0</td>\n",
       "      <td>0.0</td>\n",
       "      <td>0.0</td>\n",
       "      <td>0.0</td>\n",
       "      <td>0.0</td>\n",
       "      <td>0.0</td>\n",
       "      <td>0.0</td>\n",
       "      <td>0.0</td>\n",
       "      <td>0.0</td>\n",
       "      <td>0.0</td>\n",
       "    </tr>\n",
       "    <tr>\n",
       "      <th>4</th>\n",
       "      <td>1001020500</td>\n",
       "      <td>AL</td>\n",
       "      <td>Autauga</td>\n",
       "      <td>0</td>\n",
       "      <td>0</td>\n",
       "      <td>0</td>\n",
       "      <td>0</td>\n",
       "      <td>1</td>\n",
       "      <td>0</td>\n",
       "      <td>1</td>\n",
       "      <td>...</td>\n",
       "      <td>0.0</td>\n",
       "      <td>0.0</td>\n",
       "      <td>0.0</td>\n",
       "      <td>0.0</td>\n",
       "      <td>0.0</td>\n",
       "      <td>0.0</td>\n",
       "      <td>0.0</td>\n",
       "      <td>0.0</td>\n",
       "      <td>0.0</td>\n",
       "      <td>0.0</td>\n",
       "    </tr>\n",
       "  </tbody>\n",
       "</table>\n",
       "<p>5 rows × 65 columns</p>\n",
       "</div>"
      ],
      "text/plain": [
       "   censustract state   county  lilatracts_1and10  lilatracts_halfand10  \\\n",
       "0   1001020100    AL  Autauga                  0                     0   \n",
       "1   1001020200    AL  Autauga                  0                     0   \n",
       "2   1001020300    AL  Autauga                  0                     0   \n",
       "3   1001020400    AL  Autauga                  0                     0   \n",
       "4   1001020500    AL  Autauga                  0                     0   \n",
       "\n",
       "   lilatracts_1and20  lilatracts_vehicle  urban  rural  la1and10  ...  \\\n",
       "0                  0                   0      1      0         1  ...   \n",
       "1                  0                   0      1      0         0  ...   \n",
       "2                  0                   0      1      0         1  ...   \n",
       "3                  0                   0      1      0         1  ...   \n",
       "4                  0                   0      1      0         1  ...   \n",
       "\n",
       "   lapop20  lapop20share  lalowi20  lalowi20share  lakids20  lakids20share  \\\n",
       "0      0.0           0.0       0.0            0.0       0.0            0.0   \n",
       "1      0.0           0.0       0.0            0.0       0.0            0.0   \n",
       "2      0.0           0.0       0.0            0.0       0.0            0.0   \n",
       "3      0.0           0.0       0.0            0.0       0.0            0.0   \n",
       "4      0.0           0.0       0.0            0.0       0.0            0.0   \n",
       "\n",
       "   laseniors20  laseniors20share  lahunv20  lahunv20share  \n",
       "0          0.0               0.0       0.0            0.0  \n",
       "1          0.0               0.0       0.0            0.0  \n",
       "2          0.0               0.0       0.0            0.0  \n",
       "3          0.0               0.0       0.0            0.0  \n",
       "4          0.0               0.0       0.0            0.0  \n",
       "\n",
       "[5 rows x 65 columns]"
      ]
     },
     "execution_count": 9,
     "metadata": {},
     "output_type": "execute_result"
    }
   ],
   "source": [
    "data_2010.head()"
   ]
  },
  {
   "cell_type": "code",
   "execution_count": 10,
   "id": "1e597c85-9d2d-4aa8-9563-16758d49d6b9",
   "metadata": {},
   "outputs": [
    {
     "data": {
      "text/plain": [
       "Index(['censustract', 'state', 'county', 'lilatracts_1and10',\n",
       "       'lilatracts_halfand10', 'lilatracts_1and20', 'lilatracts_vehicle',\n",
       "       'urban', 'rural', 'la1and10', 'lahalfand10', 'la1and20',\n",
       "       'latracts_half', 'latracts1', 'latracts10', 'latracts20',\n",
       "       'latractsvehicle_20', 'hunvflag', 'groupquartersflag', 'ohu2010',\n",
       "       'numgqtrs', 'pctgqtrs', 'lowincometracts', 'pop2010', 'uatyp10',\n",
       "       'lapophalf', 'lapophalfshare', 'lalowihalf', 'lalowihalfshare',\n",
       "       'lakidshalf', 'lakidshalfshare', 'laseniorshalf', 'laseniorshalfshare',\n",
       "       'lahunvhalf', 'lahunvhalfshare', 'lapop1', 'lapop1share', 'lalowi1',\n",
       "       'lalowi1share', 'lakids1', 'lakids1share', 'laseniors1',\n",
       "       'laseniors1share', 'lahunv1', 'lahunv1share', 'lapop10', 'lapop10share',\n",
       "       'lalowi10', 'lalowi10share', 'lakids10', 'lakids10share', 'laseniors10',\n",
       "       'laseniors10share', 'lahunv10', 'lahunv10share', 'lapop20',\n",
       "       'lapop20share', 'lalowi20', 'lalowi20share', 'lakids20',\n",
       "       'lakids20share', 'laseniors20', 'laseniors20share', 'lahunv20',\n",
       "       'lahunv20share'],\n",
       "      dtype='object')"
      ]
     },
     "execution_count": 10,
     "metadata": {},
     "output_type": "execute_result"
    }
   ],
   "source": [
    "data_2010.columns"
   ]
  },
  {
   "cell_type": "code",
   "execution_count": 11,
   "id": "011d162b-dfb0-4c44-a3fe-bc86f4738526",
   "metadata": {},
   "outputs": [
    {
     "name": "stdout",
     "output_type": "stream",
     "text": [
      "<class 'pandas.core.frame.DataFrame'>\n",
      "Int64Index: 72864 entries, 0 to 72863\n",
      "Data columns (total 65 columns):\n",
      " #   Column                Non-Null Count  Dtype  \n",
      "---  ------                --------------  -----  \n",
      " 0   censustract           72864 non-null  int64  \n",
      " 1   state                 72864 non-null  object \n",
      " 2   county                72864 non-null  object \n",
      " 3   lilatracts_1and10     72864 non-null  int64  \n",
      " 4   lilatracts_halfand10  72864 non-null  int64  \n",
      " 5   lilatracts_1and20     72864 non-null  int64  \n",
      " 6   lilatracts_vehicle    72864 non-null  int64  \n",
      " 7   urban                 72864 non-null  int64  \n",
      " 8   rural                 72864 non-null  int64  \n",
      " 9   la1and10              72864 non-null  int64  \n",
      " 10  lahalfand10           72864 non-null  int64  \n",
      " 11  la1and20              72864 non-null  int64  \n",
      " 12  latracts_half         72864 non-null  int64  \n",
      " 13  latracts1             72864 non-null  int64  \n",
      " 14  latracts10            72864 non-null  int64  \n",
      " 15  latracts20            72864 non-null  int64  \n",
      " 16  latractsvehicle_20    72864 non-null  int64  \n",
      " 17  hunvflag              72864 non-null  int64  \n",
      " 18  groupquartersflag     72864 non-null  int64  \n",
      " 19  ohu2010               72864 non-null  int64  \n",
      " 20  numgqtrs              72531 non-null  float64\n",
      " 21  pctgqtrs              72531 non-null  float64\n",
      " 22  lowincometracts       72864 non-null  int64  \n",
      " 23  pop2010               72864 non-null  int64  \n",
      " 24  uatyp10               72864 non-null  object \n",
      " 25  lapophalf             72864 non-null  float64\n",
      " 26  lapophalfshare        72864 non-null  float64\n",
      " 27  lalowihalf            72864 non-null  float64\n",
      " 28  lalowihalfshare       72864 non-null  float64\n",
      " 29  lakidshalf            72864 non-null  float64\n",
      " 30  lakidshalfshare       72864 non-null  float64\n",
      " 31  laseniorshalf         72864 non-null  float64\n",
      " 32  laseniorshalfshare    72864 non-null  float64\n",
      " 33  lahunvhalf            72864 non-null  float64\n",
      " 34  lahunvhalfshare       72864 non-null  float64\n",
      " 35  lapop1                72864 non-null  float64\n",
      " 36  lapop1share           72864 non-null  float64\n",
      " 37  lalowi1               72864 non-null  float64\n",
      " 38  lalowi1share          72864 non-null  float64\n",
      " 39  lakids1               72864 non-null  float64\n",
      " 40  lakids1share          72864 non-null  float64\n",
      " 41  laseniors1            72864 non-null  float64\n",
      " 42  laseniors1share       72864 non-null  float64\n",
      " 43  lahunv1               72864 non-null  float64\n",
      " 44  lahunv1share          72864 non-null  float64\n",
      " 45  lapop10               72864 non-null  float64\n",
      " 46  lapop10share          72864 non-null  float64\n",
      " 47  lalowi10              72864 non-null  float64\n",
      " 48  lalowi10share         72864 non-null  float64\n",
      " 49  lakids10              72864 non-null  float64\n",
      " 50  lakids10share         72864 non-null  float64\n",
      " 51  laseniors10           72864 non-null  float64\n",
      " 52  laseniors10share      72864 non-null  float64\n",
      " 53  lahunv10              72864 non-null  float64\n",
      " 54  lahunv10share         72864 non-null  float64\n",
      " 55  lapop20               72864 non-null  float64\n",
      " 56  lapop20share          72864 non-null  float64\n",
      " 57  lalowi20              72864 non-null  float64\n",
      " 58  lalowi20share         72864 non-null  float64\n",
      " 59  lakids20              72864 non-null  float64\n",
      " 60  lakids20share         72864 non-null  float64\n",
      " 61  laseniors20           72864 non-null  float64\n",
      " 62  laseniors20share      72864 non-null  float64\n",
      " 63  lahunv20              72864 non-null  float64\n",
      " 64  lahunv20share         72864 non-null  float64\n",
      "dtypes: float64(42), int64(20), object(3)\n",
      "memory usage: 36.7+ MB\n"
     ]
    }
   ],
   "source": [
    "data_2010.info()"
   ]
  },
  {
   "cell_type": "code",
   "execution_count": 12,
   "id": "9965f7ba-ab21-4798-8e84-0f777e32b684",
   "metadata": {},
   "outputs": [
    {
     "data": {
      "text/plain": [
       "{'rural', 'uatyp10'}"
      ]
     },
     "execution_count": 12,
     "metadata": {},
     "output_type": "execute_result"
    }
   ],
   "source": [
    "set(data_2010.columns) - set(data_2019.columns)"
   ]
  },
  {
   "cell_type": "code",
   "execution_count": 13,
   "id": "81162758-8e3b-40c0-aa0e-6cfabf92f0ac",
   "metadata": {},
   "outputs": [
    {
     "data": {
      "text/plain": [
       "{'laaian1',\n",
       " 'laaian10',\n",
       " 'laaian10share',\n",
       " 'laaian1share',\n",
       " 'laaian20',\n",
       " 'laaian20share',\n",
       " 'laaianhalf',\n",
       " 'laaianhalfshare',\n",
       " 'laasian1',\n",
       " 'laasian10',\n",
       " 'laasian10share',\n",
       " 'laasian1share',\n",
       " 'laasian20',\n",
       " 'laasian20share',\n",
       " 'laasianhalf',\n",
       " 'laasianhalfshare',\n",
       " 'lablack1',\n",
       " 'lablack10',\n",
       " 'lablack10share',\n",
       " 'lablack1share',\n",
       " 'lablack20',\n",
       " 'lablack20share',\n",
       " 'lablackhalf',\n",
       " 'lablackhalfshare',\n",
       " 'lahisp1',\n",
       " 'lahisp10',\n",
       " 'lahisp10share',\n",
       " 'lahisp1share',\n",
       " 'lahisp20',\n",
       " 'lahisp20share',\n",
       " 'lahisphalf',\n",
       " 'lahisphalfshare',\n",
       " 'lalowi05_10',\n",
       " 'lalowi1_10',\n",
       " 'lalowi1_20',\n",
       " 'lanhopi1',\n",
       " 'lanhopi10',\n",
       " 'lanhopi10share',\n",
       " 'lanhopi1share',\n",
       " 'lanhopi20',\n",
       " 'lanhopi20share',\n",
       " 'lanhopihalf',\n",
       " 'lanhopihalfshare',\n",
       " 'laomultir1',\n",
       " 'laomultir10',\n",
       " 'laomultir10share',\n",
       " 'laomultir1share',\n",
       " 'laomultir20',\n",
       " 'laomultir20share',\n",
       " 'laomultirhalf',\n",
       " 'laomultirhalfshare',\n",
       " 'lapop05_10',\n",
       " 'lapop1_10',\n",
       " 'lapop1_20',\n",
       " 'lasnap1',\n",
       " 'lasnap10',\n",
       " 'lasnap10share',\n",
       " 'lasnap1share',\n",
       " 'lasnap20',\n",
       " 'lasnap20share',\n",
       " 'lasnaphalf',\n",
       " 'lasnaphalfshare',\n",
       " 'lawhite1',\n",
       " 'lawhite10',\n",
       " 'lawhite10share',\n",
       " 'lawhite1share',\n",
       " 'lawhite20',\n",
       " 'lawhite20share',\n",
       " 'lawhitehalf',\n",
       " 'lawhitehalfshare',\n",
       " 'medianfamilyincome',\n",
       " 'povertyrate',\n",
       " 'tractaian',\n",
       " 'tractasian',\n",
       " 'tractblack',\n",
       " 'tracthispanic',\n",
       " 'tracthunv',\n",
       " 'tractkids',\n",
       " 'tractlowi',\n",
       " 'tractnhopi',\n",
       " 'tractomultir',\n",
       " 'tractseniors',\n",
       " 'tractsnap',\n",
       " 'tractwhite'}"
      ]
     },
     "execution_count": 13,
     "metadata": {},
     "output_type": "execute_result"
    }
   ],
   "source": [
    "# difference between 2019 columns and 2010 columns\n",
    "set(data_2019.columns) - set(data_2010.columns)"
   ]
  },
  {
   "cell_type": "code",
   "execution_count": 49,
   "id": "ebd20ec6-4e14-482d-9e0b-8f3b2e072aa7",
   "metadata": {},
   "outputs": [
    {
     "data": {
      "text/plain": [
       "34715    0.441612\n",
       "58325    0.458488\n",
       "23867    0.463546\n",
       "55762    0.469206\n",
       "34914    0.493192\n",
       "44654    0.503106\n",
       "21335    0.525490\n",
       "34871    0.548813\n",
       "50570    0.737500\n",
       "43291    0.923077\n",
       "21331    1.236504\n",
       "42964    1.250000\n",
       "43276    1.871795\n",
       "754      2.203883\n",
       "35199    2.250000\n",
       "15231    2.335714\n",
       "1293          NaN\n",
       "59643         NaN\n",
       "59644         NaN\n",
       "59645         NaN\n",
       "dtype: float64"
      ]
     },
     "execution_count": 49,
     "metadata": {},
     "output_type": "execute_result"
    }
   ],
   "source": [
    "(data_2019['tractsnap']/data_2019['pop2010']).sort_values().tail(20)"
   ]
  },
  {
   "cell_type": "code",
   "execution_count": 51,
   "id": "48cc062f-6e7d-4db3-9a0c-756ef18c496a",
   "metadata": {},
   "outputs": [
    {
     "data": {
      "text/html": [
       "<div>\n",
       "<style scoped>\n",
       "    .dataframe tbody tr th:only-of-type {\n",
       "        vertical-align: middle;\n",
       "    }\n",
       "\n",
       "    .dataframe tbody tr th {\n",
       "        vertical-align: top;\n",
       "    }\n",
       "\n",
       "    .dataframe thead th {\n",
       "        text-align: right;\n",
       "    }\n",
       "</style>\n",
       "<table border=\"1\" class=\"dataframe\">\n",
       "  <thead>\n",
       "    <tr style=\"text-align: right;\">\n",
       "      <th></th>\n",
       "      <th>censustract</th>\n",
       "      <th>state</th>\n",
       "      <th>county</th>\n",
       "      <th>urban</th>\n",
       "      <th>pop2010</th>\n",
       "      <th>ohu2010</th>\n",
       "      <th>groupquartersflag</th>\n",
       "      <th>numgqtrs</th>\n",
       "      <th>pctgqtrs</th>\n",
       "      <th>lilatracts_1and10</th>\n",
       "      <th>...</th>\n",
       "      <th>tractseniors</th>\n",
       "      <th>tractwhite</th>\n",
       "      <th>tractblack</th>\n",
       "      <th>tractasian</th>\n",
       "      <th>tractnhopi</th>\n",
       "      <th>tractaian</th>\n",
       "      <th>tractomultir</th>\n",
       "      <th>tracthispanic</th>\n",
       "      <th>tracthunv</th>\n",
       "      <th>tractsnap</th>\n",
       "    </tr>\n",
       "  </thead>\n",
       "  <tbody>\n",
       "    <tr>\n",
       "      <th>21331</th>\n",
       "      <td>17031350400</td>\n",
       "      <td>Illinois</td>\n",
       "      <td>Cook County</td>\n",
       "      <td>1</td>\n",
       "      <td>389</td>\n",
       "      <td>150</td>\n",
       "      <td>0</td>\n",
       "      <td>0.0</td>\n",
       "      <td>0.0</td>\n",
       "      <td>0</td>\n",
       "      <td>...</td>\n",
       "      <td>25.0</td>\n",
       "      <td>0.0</td>\n",
       "      <td>377.0</td>\n",
       "      <td>0.0</td>\n",
       "      <td>0.0</td>\n",
       "      <td>8.0</td>\n",
       "      <td>4.0</td>\n",
       "      <td>12.0</td>\n",
       "      <td>487.0</td>\n",
       "      <td>481.0</td>\n",
       "    </tr>\n",
       "  </tbody>\n",
       "</table>\n",
       "<p>1 rows × 147 columns</p>\n",
       "</div>"
      ],
      "text/plain": [
       "       censustract     state       county  urban  pop2010  ohu2010  \\\n",
       "21331  17031350400  Illinois  Cook County      1      389      150   \n",
       "\n",
       "       groupquartersflag  numgqtrs  pctgqtrs  lilatracts_1and10  ...  \\\n",
       "21331                  0       0.0       0.0                  0  ...   \n",
       "\n",
       "       tractseniors  tractwhite  tractblack  tractasian  tractnhopi  \\\n",
       "21331          25.0         0.0       377.0         0.0         0.0   \n",
       "\n",
       "       tractaian  tractomultir  tracthispanic  tracthunv  tractsnap  \n",
       "21331        8.0           4.0           12.0      487.0      481.0  \n",
       "\n",
       "[1 rows x 147 columns]"
      ]
     },
     "execution_count": 51,
     "metadata": {},
     "output_type": "execute_result"
    }
   ],
   "source": [
    "data_2019.loc[[21331]]"
   ]
  },
  {
   "cell_type": "code",
   "execution_count": 33,
   "id": "42564e44-f863-4823-abee-2a33c956c195",
   "metadata": {},
   "outputs": [
    {
     "data": {
      "text/plain": [
       "<seaborn.axisgrid.FacetGrid at 0x7f85cbb791f0>"
      ]
     },
     "execution_count": 33,
     "metadata": {},
     "output_type": "execute_result"
    },
    {
     "data": {
      "image/png": "[encoded data removed]",
      "text/plain": [
       "<Figure size 360x360 with 1 Axes>"
      ]
     },
     "metadata": {
      "needs_background": "light"
     },
     "output_type": "display_data"
    }
   ],
   "source": [
    "sns.displot(data_2019['tractsnap']/data_2019['pop2010'])"
   ]
  },
  {
   "cell_type": "code",
   "execution_count": 19,
   "id": "e338b5ad-8820-4902-a566-0c239e2c4b32",
   "metadata": {
    "tags": []
   },
   "outputs": [
    {
     "data": {
      "image/png": "[encoded data removed]",
      "text/plain": [
       "<Figure size 432x288 with 1 Axes>"
      ]
     },
     "metadata": {
      "needs_background": "light"
     },
     "output_type": "display_data"
    }
   ],
   "source": [
    "plt.hist(data_2019['medianfamilyincome'], bins=30);"
   ]
  },
  {
   "cell_type": "code",
   "execution_count": 20,
   "id": "7adf1baf-9235-4f04-aed1-b3ed9196d420",
   "metadata": {},
   "outputs": [
    {
     "data": {
      "text/plain": [
       "(array([68547.,  1743.,   809.,   439.,   258.,   148.,    92.,    93.,\n",
       "           77.,   325.]),\n",
       " array([0. , 0.1, 0.2, 0.3, 0.4, 0.5, 0.6, 0.7, 0.8, 0.9, 1. ]),\n",
       " <BarContainer object of 10 artists>)"
      ]
     },
     "execution_count": 20,
     "metadata": {},
     "output_type": "execute_result"
    },
    {
     "data": {
      "image/png": "[encoded data removed]",
      "text/plain": [
       "<Figure size 432x288 with 1 Axes>"
      ]
     },
     "metadata": {
      "needs_background": "light"
     },
     "output_type": "display_data"
    }
   ],
   "source": [
    "plt.hist(data_2010['pctgqtrs'])"
   ]
  },
  {
   "cell_type": "code",
   "execution_count": 53,
   "id": "f07dbd87-819c-4fe0-83cb-a7e323297dfc",
   "metadata": {},
   "outputs": [
    {
     "data": {
      "text/plain": [
       "0    0.598087\n",
       "1    0.401913\n",
       "Name: lowincometracts, dtype: float64"
      ]
     },
     "execution_count": 53,
     "metadata": {},
     "output_type": "execute_result"
    }
   ],
   "source": [
    "data_2010['lowincometracts'].value_counts(normalize=True)"
   ]
  },
  {
   "cell_type": "code",
   "execution_count": null,
   "id": "0f8b84e1-f14c-42e0-8576-840d7ee3b10c",
   "metadata": {},
   "outputs": [],
   "source": []
  }
 ],
 "metadata": {
  "kernelspec": {
   "display_name": "Python 3 (ipykernel)",
   "language": "python",
   "name": "python3"
  },
  "language_info": {
   "codemirror_mode": {
    "name": "ipython",
    "version": 3
   },
   "file_extension": ".py",
   "mimetype": "text/x-python",
   "name": "python",
   "nbconvert_exporter": "python",
   "pygments_lexer": "ipython3",
   "version": "3.9.7"
  }
 },
 "nbformat": 4,
 "nbformat_minor": 5
}
