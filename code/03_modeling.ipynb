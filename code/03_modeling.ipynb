{
 "cells": [
  {
   "cell_type": "markdown",
   "id": "e6c8921d",
   "metadata": {},
   "source": [
    "# 3. Modeling"
   ]
  },
  {
   "cell_type": "markdown",
   "id": "9543ab45",
   "metadata": {},
   "source": [
    "We attempted to make a model to predict food desert status of a census tract in case it was asked about. "
   ]
  },
  {
   "cell_type": "code",
   "execution_count": 45,
   "id": "1364c13a",
   "metadata": {},
   "outputs": [],
   "source": [
    "import pandas as pd\n",
    "import numpy as np\n",
    "import seaborn as sns\n",
    "import matplotlib.pyplot as plt\n",
    "\n",
    "from sklearn.model_selection import train_test_split\n",
    "from sklearn.linear_model import LogisticRegressionCV\n",
    "from sklearn.pipeline import Pipeline\n",
    "from sklearn.preprocessing import StandardScaler\n",
    "from sklearn.impute import SimpleImputer\n",
    "from sklearn.metrics import ConfusionMatrixDisplay"
   ]
  },
  {
   "cell_type": "code",
   "execution_count": 46,
   "id": "c2b02d32",
   "metadata": {},
   "outputs": [],
   "source": [
    "pd.set_option('display.max_columns', None)"
   ]
  },
  {
   "cell_type": "markdown",
   "id": "c32e9544",
   "metadata": {},
   "source": [
    "### Logistic Regression\n",
    "---"
   ]
  },
  {
   "cell_type": "code",
   "execution_count": 47,
   "id": "55601c16",
   "metadata": {},
   "outputs": [],
   "source": [
    "df = pd.read_csv('../output_data/data_2019_dc_1and10_CDC_cleaned.csv', index_col=0)"
   ]
  },
  {
   "cell_type": "code",
   "execution_count": 48,
   "id": "083fdf87",
   "metadata": {},
   "outputs": [],
   "source": [
    "df['food_desert_status'] = df['food_desert_status'].replace('remained_food_accessible', 0)\n",
    "df['food_desert_status'] = df['food_desert_status'].replace('remained_food_desert', 1)\n",
    "df['food_desert_status'] = df['food_desert_status'].replace('became_food_desert', 2)\n",
    "df['food_desert_status'] = df['food_desert_status'].replace('became_food_accessible', 3)"
   ]
  },
  {
   "cell_type": "code",
   "execution_count": 49,
   "id": "4f71c588",
   "metadata": {},
   "outputs": [],
   "source": [
    "df['status_2019'] = np.where(((df['food_desert_status']==0) | (df['food_desert_status']==3)), 'accessible', 'desert')"
   ]
  },
  {
   "cell_type": "code",
   "execution_count": 50,
   "id": "41700507",
   "metadata": {},
   "outputs": [],
   "source": [
    "race_cols = ['tractwhite', 'tractblack', 'tractasian', 'tractomultir', 'tracthispanic', 'tractnhopi', 'tractaian']"
   ]
  },
  {
   "cell_type": "code",
   "execution_count": 51,
   "id": "fb4aef9d",
   "metadata": {},
   "outputs": [],
   "source": [
    "df[race_cols + ['tracthunv', 'tractsnap']] = df[race_cols +['tracthunv', 'tractsnap']].apply(lambda x: x/df[race_cols].sum(axis=1))"
   ]
  },
  {
   "cell_type": "code",
   "execution_count": 52,
   "id": "b41316b7",
   "metadata": {},
   "outputs": [
    {
     "data": {
      "text/plain": [
       "(179, 221)"
      ]
     },
     "execution_count": 52,
     "metadata": {},
     "output_type": "execute_result"
    }
   ],
   "source": [
    "df.shape"
   ]
  },
  {
   "cell_type": "code",
   "execution_count": 53,
   "id": "09a5a6db",
   "metadata": {},
   "outputs": [],
   "source": [
    "X = df[['bp','chd','chol','diab','obes','mhlth']+race_cols]\n",
    "y = df['status_2019']\n",
    "\n",
    "X_train, X_test, y_train, y_test = train_test_split(X, y, random_state=1)"
   ]
  },
  {
   "cell_type": "code",
   "execution_count": 54,
   "id": "3347f689",
   "metadata": {},
   "outputs": [
    {
     "data": {
      "text/plain": [
       "accessible    0.932961\n",
       "desert        0.067039\n",
       "Name: status_2019, dtype: float64"
      ]
     },
     "execution_count": 54,
     "metadata": {},
     "output_type": "execute_result"
    }
   ],
   "source": [
    "y.value_counts(normalize=1)"
   ]
  },
  {
   "cell_type": "code",
   "execution_count": 55,
   "id": "3f4ccfcb",
   "metadata": {},
   "outputs": [
    {
     "data": {
      "text/html": [
       "<div>\n",
       "<style scoped>\n",
       "    .dataframe tbody tr th:only-of-type {\n",
       "        vertical-align: middle;\n",
       "    }\n",
       "\n",
       "    .dataframe tbody tr th {\n",
       "        vertical-align: top;\n",
       "    }\n",
       "\n",
       "    .dataframe thead th {\n",
       "        text-align: right;\n",
       "    }\n",
       "</style>\n",
       "<table border=\"1\" class=\"dataframe\">\n",
       "  <thead>\n",
       "    <tr style=\"text-align: right;\">\n",
       "      <th></th>\n",
       "      <th>bp</th>\n",
       "      <th>chd</th>\n",
       "      <th>chol</th>\n",
       "      <th>diab</th>\n",
       "      <th>obes</th>\n",
       "      <th>mhlth</th>\n",
       "      <th>tractwhite</th>\n",
       "      <th>tractblack</th>\n",
       "      <th>tractasian</th>\n",
       "      <th>tractomultir</th>\n",
       "      <th>tracthispanic</th>\n",
       "      <th>tractnhopi</th>\n",
       "      <th>tractaian</th>\n",
       "    </tr>\n",
       "  </thead>\n",
       "  <tbody>\n",
       "    <tr>\n",
       "      <th>153</th>\n",
       "      <td>0.0245</td>\n",
       "      <td>0.0022</td>\n",
       "      <td>0.0105</td>\n",
       "      <td>0.0049</td>\n",
       "      <td>0.0125</td>\n",
       "      <td>0.0054</td>\n",
       "      <td>0.006232</td>\n",
       "      <td>0.96541</td>\n",
       "      <td>0.001246</td>\n",
       "      <td>0.013711</td>\n",
       "      <td>0.009972</td>\n",
       "      <td>0.001558</td>\n",
       "      <td>0.00187</td>\n",
       "    </tr>\n",
       "  </tbody>\n",
       "</table>\n",
       "</div>"
      ],
      "text/plain": [
       "         bp     chd    chol    diab    obes   mhlth  tractwhite  tractblack  \\\n",
       "153  0.0245  0.0022  0.0105  0.0049  0.0125  0.0054    0.006232     0.96541   \n",
       "\n",
       "     tractasian  tractomultir  tracthispanic  tractnhopi  tractaian  \n",
       "153    0.001246      0.013711       0.009972    0.001558    0.00187  "
      ]
     },
     "execution_count": 55,
     "metadata": {},
     "output_type": "execute_result"
    }
   ],
   "source": [
    "X_train[:1]"
   ]
  },
  {
   "cell_type": "code",
   "execution_count": 56,
   "id": "0135bd88",
   "metadata": {},
   "outputs": [],
   "source": [
    "pipe = Pipeline([\n",
    "    ('inp', SimpleImputer()),\n",
    "    ('ss', StandardScaler()),\n",
    "    ('lor', LogisticRegressionCV(max_iter=10_000)),\n",
    "])"
   ]
  },
  {
   "cell_type": "code",
   "execution_count": 57,
   "id": "31ba2679",
   "metadata": {},
   "outputs": [
    {
     "data": {
      "text/plain": [
       "Pipeline(steps=[('inp', SimpleImputer()), ('ss', StandardScaler()),\n",
       "                ('lor', LogisticRegressionCV(max_iter=10000))])"
      ]
     },
     "execution_count": 57,
     "metadata": {},
     "output_type": "execute_result"
    }
   ],
   "source": [
    "pipe.fit(X_train, y_train)"
   ]
  },
  {
   "cell_type": "code",
   "execution_count": 58,
   "id": "1109ef7e",
   "metadata": {},
   "outputs": [
    {
     "data": {
      "text/plain": [
       "0.9328358208955224"
      ]
     },
     "execution_count": 58,
     "metadata": {},
     "output_type": "execute_result"
    }
   ],
   "source": [
    "pipe.score(X_train, y_train)"
   ]
  },
  {
   "cell_type": "code",
   "execution_count": 59,
   "id": "a4ae9921",
   "metadata": {},
   "outputs": [
    {
     "data": {
      "text/plain": [
       "0.9333333333333333"
      ]
     },
     "execution_count": 59,
     "metadata": {},
     "output_type": "execute_result"
    }
   ],
   "source": [
    "pipe.score(X_test, y_test)"
   ]
  },
  {
   "cell_type": "code",
   "execution_count": 60,
   "id": "a83c5009",
   "metadata": {},
   "outputs": [],
   "source": [
    "preds = pipe.predict(X_test)"
   ]
  },
  {
   "cell_type": "code",
   "execution_count": 61,
   "id": "e55ccc11",
   "metadata": {},
   "outputs": [
    {
     "data": {
      "image/png": "[encoded data removed]",
      "text/plain": [
       "<Figure size 432x288 with 2 Axes>"
      ]
     },
     "metadata": {
      "needs_background": "light"
     },
     "output_type": "display_data"
    }
   ],
   "source": [
    "ConfusionMatrixDisplay.from_predictions(y_test, preds, normalize='true');"
   ]
  },
  {
   "cell_type": "markdown",
   "id": "77d63df6",
   "metadata": {},
   "source": [
    "Our model did barely 0.01% better than the baseline. DC doesn't have quite enough census tracts to run a good model on. "
   ]
  },
  {
   "cell_type": "code",
   "execution_count": 62,
   "id": "843bb20f",
   "metadata": {},
   "outputs": [
    {
     "data": {
      "text/plain": [
       "array(['bp', 'chd', 'chol', 'diab', 'obes', 'mhlth', 'tractwhite',\n",
       "       'tractblack', 'tractasian', 'tractomultir', 'tracthispanic',\n",
       "       'tractnhopi', 'tractaian'], dtype=object)"
      ]
     },
     "execution_count": 62,
     "metadata": {},
     "output_type": "execute_result"
    }
   ],
   "source": [
    "pipe.feature_names_in_"
   ]
  },
  {
   "cell_type": "code",
   "execution_count": 63,
   "id": "082d3834",
   "metadata": {},
   "outputs": [],
   "source": [
    "coef = pd.DataFrame(pipe.named_steps.lor.coef_, columns=pipe.feature_names_in_ ).T\n",
    "coef = coef.sort_values(0)"
   ]
  },
  {
   "cell_type": "code",
   "execution_count": 64,
   "id": "7df26b2c",
   "metadata": {},
   "outputs": [
    {
     "data": {
      "image/png": "[encoded data removed]",
      "text/plain": [
       "<Figure size 720x576 with 1 Axes>"
      ]
     },
     "metadata": {
      "needs_background": "light"
     },
     "output_type": "display_data"
    }
   ],
   "source": [
    "plt.figure(figsize=(10, 8))\n",
    "sns.barplot(x=coef.index, y=coef[0])\n",
    "plt.ylabel('coef')\n",
    "plt.title('Feature Coefficients')\n",
    "plt.xticks(rotation=45);\n"
   ]
  }
 ],
 "metadata": {
  "kernelspec": {
   "display_name": "Python 3 (ipykernel)",
   "language": "python",
   "name": "python3"
  },
  "language_info": {
   "codemirror_mode": {
    "name": "ipython",
    "version": 3
   },
   "file_extension": ".py",
   "mimetype": "text/x-python",
   "name": "python",
   "nbconvert_exporter": "python",
   "pygments_lexer": "ipython3",
   "version": "3.10.4"
  }
 },
 "nbformat": 4,
 "nbformat_minor": 5
}
