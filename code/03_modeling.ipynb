{
 "cells": [
  {
   "cell_type": "markdown",
   "id": "c86a09d2",
   "metadata": {},
   "source": [
    "# 3. Modeling"
   ]
  },
  {
   "cell_type": "markdown",
   "id": "24141c40",
   "metadata": {},
   "source": [
    "In case we need to, here's the start of a terrible model."
   ]
  },
  {
   "cell_type": "code",
   "execution_count": null,
   "id": "6d015a0c",
   "metadata": {},
   "outputs": [],
   "source": [
    "import pandas as pd\n",
    "import numpy as np\n",
    "import seaborn as sns\n",
    "import matplotlib.pyplot as plt\n",
    "\n",
    "from sklearn.model_selection import train_test_split\n",
    "from sklearn.linear_model import LinearRegression, LogisticRegressionCV\n",
    "from sklearn.pipeline import Pipeline\n",
    "from sklearn.preprocessing import StandardScaler\n",
    "from sklearn.impute import SimpleImputer"
   ]
  },
  {
   "cell_type": "code",
   "execution_count": null,
   "id": "94d2efe0-124c-4887-a91c-b55f8637c932",
   "metadata": {},
   "outputs": [],
   "source": [
    "pd.set_option('display.max_columns', None)"
   ]
  },
  {
   "cell_type": "code",
   "execution_count": null,
   "id": "4d3d676f",
   "metadata": {},
   "outputs": [],
   "source": [
    "df = pd.read_csv('../output_data/data_2010_dc_halfand10_cleaned.csv', index_col=0)"
   ]
  },
  {
   "cell_type": "code",
   "execution_count": null,
   "id": "553f880e",
   "metadata": {},
   "outputs": [
    {
     "data": {
      "text/html": [
       "<div>\n",
       "<style scoped>\n",
       "    .dataframe tbody tr th:only-of-type {\n",
       "        vertical-align: middle;\n",
       "    }\n",
       "\n",
       "    .dataframe tbody tr th {\n",
       "        vertical-align: top;\n",
       "    }\n",
       "\n",
       "    .dataframe thead th {\n",
       "        text-align: right;\n",
       "    }\n",
       "</style>\n",
       "<table border=\"1\" class=\"dataframe\">\n",
       "  <thead>\n",
       "    <tr style=\"text-align: right;\">\n",
       "      <th></th>\n",
       "      <th>censustract</th>\n",
       "      <th>state</th>\n",
       "      <th>county</th>\n",
       "      <th>urban</th>\n",
       "      <th>pop2010</th>\n",
       "      <th>ohu2010</th>\n",
       "      <th>groupquartersflag</th>\n",
       "      <th>numgqtrs</th>\n",
       "      <th>pctgqtrs</th>\n",
       "      <th>lilatracts_1and10</th>\n",
       "      <th>lilatracts_halfand10</th>\n",
       "      <th>lilatracts_1and20</th>\n",
       "      <th>lilatracts_vehicle</th>\n",
       "      <th>hunvflag</th>\n",
       "      <th>lowincometracts</th>\n",
       "      <th>povertyrate</th>\n",
       "      <th>medianfamilyincome</th>\n",
       "      <th>la1and10</th>\n",
       "      <th>lahalfand10</th>\n",
       "      <th>la1and20</th>\n",
       "      <th>latracts_half</th>\n",
       "      <th>latracts1</th>\n",
       "      <th>latracts10</th>\n",
       "      <th>latracts20</th>\n",
       "      <th>latractsvehicle_20</th>\n",
       "      <th>lapop1_10</th>\n",
       "      <th>lapop05_10</th>\n",
       "      <th>lapop1_20</th>\n",
       "      <th>lalowi1_10</th>\n",
       "      <th>lalowi05_10</th>\n",
       "      <th>lalowi1_20</th>\n",
       "      <th>lapophalf</th>\n",
       "      <th>lapophalfshare</th>\n",
       "      <th>lalowihalf</th>\n",
       "      <th>lalowihalfshare</th>\n",
       "      <th>lakidshalf</th>\n",
       "      <th>lakidshalfshare</th>\n",
       "      <th>laseniorshalf</th>\n",
       "      <th>laseniorshalfshare</th>\n",
       "      <th>lawhitehalf</th>\n",
       "      <th>lawhitehalfshare</th>\n",
       "      <th>lablackhalf</th>\n",
       "      <th>lablackhalfshare</th>\n",
       "      <th>laasianhalf</th>\n",
       "      <th>laasianhalfshare</th>\n",
       "      <th>lanhopihalf</th>\n",
       "      <th>lanhopihalfshare</th>\n",
       "      <th>laaianhalf</th>\n",
       "      <th>laaianhalfshare</th>\n",
       "      <th>laomultirhalf</th>\n",
       "      <th>laomultirhalfshare</th>\n",
       "      <th>lahisphalf</th>\n",
       "      <th>lahisphalfshare</th>\n",
       "      <th>lahunvhalf</th>\n",
       "      <th>lahunvhalfshare</th>\n",
       "      <th>lasnaphalf</th>\n",
       "      <th>lasnaphalfshare</th>\n",
       "      <th>lapop1</th>\n",
       "      <th>lapop1share</th>\n",
       "      <th>lalowi1</th>\n",
       "      <th>lalowi1share</th>\n",
       "      <th>lakids1</th>\n",
       "      <th>lakids1share</th>\n",
       "      <th>laseniors1</th>\n",
       "      <th>laseniors1share</th>\n",
       "      <th>lawhite1</th>\n",
       "      <th>lawhite1share</th>\n",
       "      <th>lablack1</th>\n",
       "      <th>lablack1share</th>\n",
       "      <th>laasian1</th>\n",
       "      <th>laasian1share</th>\n",
       "      <th>lanhopi1</th>\n",
       "      <th>lanhopi1share</th>\n",
       "      <th>laaian1</th>\n",
       "      <th>laaian1share</th>\n",
       "      <th>laomultir1</th>\n",
       "      <th>laomultir1share</th>\n",
       "      <th>lahisp1</th>\n",
       "      <th>lahisp1share</th>\n",
       "      <th>lahunv1</th>\n",
       "      <th>lahunv1share</th>\n",
       "      <th>lasnap1</th>\n",
       "      <th>lasnap1share</th>\n",
       "      <th>lapop10</th>\n",
       "      <th>lapop10share</th>\n",
       "      <th>lalowi10</th>\n",
       "      <th>lalowi10share</th>\n",
       "      <th>lakids10</th>\n",
       "      <th>lakids10share</th>\n",
       "      <th>laseniors10</th>\n",
       "      <th>laseniors10share</th>\n",
       "      <th>lawhite10</th>\n",
       "      <th>lawhite10share</th>\n",
       "      <th>lablack10</th>\n",
       "      <th>lablack10share</th>\n",
       "      <th>laasian10</th>\n",
       "      <th>laasian10share</th>\n",
       "      <th>lanhopi10</th>\n",
       "      <th>lanhopi10share</th>\n",
       "      <th>laaian10</th>\n",
       "      <th>laaian10share</th>\n",
       "      <th>laomultir10</th>\n",
       "      <th>laomultir10share</th>\n",
       "      <th>lahisp10</th>\n",
       "      <th>lahisp10share</th>\n",
       "      <th>lahunv10</th>\n",
       "      <th>lahunv10share</th>\n",
       "      <th>lasnap10</th>\n",
       "      <th>lasnap10share</th>\n",
       "      <th>lapop20</th>\n",
       "      <th>lapop20share</th>\n",
       "      <th>lalowi20</th>\n",
       "      <th>lalowi20share</th>\n",
       "      <th>lakids20</th>\n",
       "      <th>lakids20share</th>\n",
       "      <th>laseniors20</th>\n",
       "      <th>laseniors20share</th>\n",
       "      <th>lawhite20</th>\n",
       "      <th>lawhite20share</th>\n",
       "      <th>lablack20</th>\n",
       "      <th>lablack20share</th>\n",
       "      <th>laasian20</th>\n",
       "      <th>laasian20share</th>\n",
       "      <th>lanhopi20</th>\n",
       "      <th>lanhopi20share</th>\n",
       "      <th>laaian20</th>\n",
       "      <th>laaian20share</th>\n",
       "      <th>laomultir20</th>\n",
       "      <th>laomultir20share</th>\n",
       "      <th>lahisp20</th>\n",
       "      <th>lahisp20share</th>\n",
       "      <th>lahunv20</th>\n",
       "      <th>lahunv20share</th>\n",
       "      <th>lasnap20</th>\n",
       "      <th>lasnap20share</th>\n",
       "      <th>tractlowi</th>\n",
       "      <th>tractkids</th>\n",
       "      <th>tractseniors</th>\n",
       "      <th>tractwhite</th>\n",
       "      <th>tractblack</th>\n",
       "      <th>tractasian</th>\n",
       "      <th>tractnhopi</th>\n",
       "      <th>tractaian</th>\n",
       "      <th>tractomultir</th>\n",
       "      <th>tracthispanic</th>\n",
       "      <th>tracthunv</th>\n",
       "      <th>tractsnap</th>\n",
       "      <th>lila_0_0</th>\n",
       "      <th>lila_0_1</th>\n",
       "      <th>lila_1_0</th>\n",
       "      <th>lila_1_1</th>\n",
       "      <th>food_desert_status</th>\n",
       "    </tr>\n",
       "  </thead>\n",
       "  <tbody>\n",
       "    <tr>\n",
       "      <th>13859</th>\n",
       "      <td>11001000100</td>\n",
       "      <td>District of Columbia</td>\n",
       "      <td>District of Columbia</td>\n",
       "      <td>1</td>\n",
       "      <td>4890</td>\n",
       "      <td>2686</td>\n",
       "      <td>0</td>\n",
       "      <td>24.0</td>\n",
       "      <td>0.490798</td>\n",
       "      <td>0</td>\n",
       "      <td>0</td>\n",
       "      <td>0</td>\n",
       "      <td>0</td>\n",
       "      <td>0</td>\n",
       "      <td>0</td>\n",
       "      <td>5.63435</td>\n",
       "      <td>236731.0</td>\n",
       "      <td>0</td>\n",
       "      <td>0</td>\n",
       "      <td>0</td>\n",
       "      <td>0</td>\n",
       "      <td>0</td>\n",
       "      <td>0</td>\n",
       "      <td>0</td>\n",
       "      <td>0</td>\n",
       "      <td>NaN</td>\n",
       "      <td>80.672344</td>\n",
       "      <td>NaN</td>\n",
       "      <td>NaN</td>\n",
       "      <td>5.983083</td>\n",
       "      <td>NaN</td>\n",
       "      <td>80.672344</td>\n",
       "      <td>1.649741</td>\n",
       "      <td>5.983083</td>\n",
       "      <td>0.122353</td>\n",
       "      <td>9.395956</td>\n",
       "      <td>0.192146</td>\n",
       "      <td>11.495184</td>\n",
       "      <td>0.235075</td>\n",
       "      <td>70.432524</td>\n",
       "      <td>1.440338</td>\n",
       "      <td>1.390006</td>\n",
       "      <td>0.028425</td>\n",
       "      <td>4.604807</td>\n",
       "      <td>0.094168</td>\n",
       "      <td>0.018225</td>\n",
       "      <td>0.000373</td>\n",
       "      <td>0.32945</td>\n",
       "      <td>0.006737</td>\n",
       "      <td>3.897334</td>\n",
       "      <td>0.0797</td>\n",
       "      <td>9.20089</td>\n",
       "      <td>0.188157</td>\n",
       "      <td>9.260688</td>\n",
       "      <td>0.344776</td>\n",
       "      <td>0.0</td>\n",
       "      <td>0.0</td>\n",
       "      <td>NaN</td>\n",
       "      <td>NaN</td>\n",
       "      <td>NaN</td>\n",
       "      <td>NaN</td>\n",
       "      <td>NaN</td>\n",
       "      <td>NaN</td>\n",
       "      <td>NaN</td>\n",
       "      <td>NaN</td>\n",
       "      <td>NaN</td>\n",
       "      <td>NaN</td>\n",
       "      <td>NaN</td>\n",
       "      <td>NaN</td>\n",
       "      <td>NaN</td>\n",
       "      <td>NaN</td>\n",
       "      <td>NaN</td>\n",
       "      <td>NaN</td>\n",
       "      <td>NaN</td>\n",
       "      <td>NaN</td>\n",
       "      <td>NaN</td>\n",
       "      <td>NaN</td>\n",
       "      <td>NaN</td>\n",
       "      <td>NaN</td>\n",
       "      <td>NaN</td>\n",
       "      <td>NaN</td>\n",
       "      <td>NaN</td>\n",
       "      <td>NaN</td>\n",
       "      <td>NaN</td>\n",
       "      <td>NaN</td>\n",
       "      <td>NaN</td>\n",
       "      <td>NaN</td>\n",
       "      <td>NaN</td>\n",
       "      <td>NaN</td>\n",
       "      <td>NaN</td>\n",
       "      <td>NaN</td>\n",
       "      <td>NaN</td>\n",
       "      <td>NaN</td>\n",
       "      <td>NaN</td>\n",
       "      <td>NaN</td>\n",
       "      <td>NaN</td>\n",
       "      <td>NaN</td>\n",
       "      <td>NaN</td>\n",
       "      <td>NaN</td>\n",
       "      <td>NaN</td>\n",
       "      <td>NaN</td>\n",
       "      <td>NaN</td>\n",
       "      <td>NaN</td>\n",
       "      <td>NaN</td>\n",
       "      <td>NaN</td>\n",
       "      <td>NaN</td>\n",
       "      <td>NaN</td>\n",
       "      <td>NaN</td>\n",
       "      <td>NaN</td>\n",
       "      <td>NaN</td>\n",
       "      <td>NaN</td>\n",
       "      <td>NaN</td>\n",
       "      <td>NaN</td>\n",
       "      <td>NaN</td>\n",
       "      <td>NaN</td>\n",
       "      <td>NaN</td>\n",
       "      <td>NaN</td>\n",
       "      <td>NaN</td>\n",
       "      <td>NaN</td>\n",
       "      <td>NaN</td>\n",
       "      <td>NaN</td>\n",
       "      <td>NaN</td>\n",
       "      <td>NaN</td>\n",
       "      <td>NaN</td>\n",
       "      <td>NaN</td>\n",
       "      <td>NaN</td>\n",
       "      <td>NaN</td>\n",
       "      <td>NaN</td>\n",
       "      <td>NaN</td>\n",
       "      <td>NaN</td>\n",
       "      <td>NaN</td>\n",
       "      <td>NaN</td>\n",
       "      <td>NaN</td>\n",
       "      <td>NaN</td>\n",
       "      <td>NaN</td>\n",
       "      <td>538.0</td>\n",
       "      <td>585.0</td>\n",
       "      <td>885.0</td>\n",
       "      <td>4444.0</td>\n",
       "      <td>105.0</td>\n",
       "      <td>201.0</td>\n",
       "      <td>2.0</td>\n",
       "      <td>9.0</td>\n",
       "      <td>129.0</td>\n",
       "      <td>296.0</td>\n",
       "      <td>440.0</td>\n",
       "      <td>0.0</td>\n",
       "      <td>True</td>\n",
       "      <td>False</td>\n",
       "      <td>False</td>\n",
       "      <td>False</td>\n",
       "      <td>remained_food_accessible</td>\n",
       "    </tr>\n",
       "  </tbody>\n",
       "</table>\n",
       "</div>"
      ],
      "text/plain": [
       "       censustract                 state                county  urban  \\\n",
       "13859  11001000100  District of Columbia  District of Columbia      1   \n",
       "\n",
       "       pop2010  ohu2010  groupquartersflag  numgqtrs  pctgqtrs  \\\n",
       "13859     4890     2686                  0      24.0  0.490798   \n",
       "\n",
       "       lilatracts_1and10  lilatracts_halfand10  lilatracts_1and20  \\\n",
       "13859                  0                     0                  0   \n",
       "\n",
       "       lilatracts_vehicle  hunvflag  lowincometracts  povertyrate  \\\n",
       "13859                   0         0                0      5.63435   \n",
       "\n",
       "       medianfamilyincome  la1and10  lahalfand10  la1and20  latracts_half  \\\n",
       "13859            236731.0         0            0         0              0   \n",
       "\n",
       "       latracts1  latracts10  latracts20  latractsvehicle_20  lapop1_10  \\\n",
       "13859          0           0           0                   0        NaN   \n",
       "\n",
       "       lapop05_10  lapop1_20  lalowi1_10  lalowi05_10  lalowi1_20  lapophalf  \\\n",
       "13859   80.672344        NaN         NaN     5.983083         NaN  80.672344   \n",
       "\n",
       "       lapophalfshare  lalowihalf  lalowihalfshare  lakidshalf  \\\n",
       "13859        1.649741    5.983083         0.122353    9.395956   \n",
       "\n",
       "       lakidshalfshare  laseniorshalf  laseniorshalfshare  lawhitehalf  \\\n",
       "13859         0.192146      11.495184            0.235075    70.432524   \n",
       "\n",
       "       lawhitehalfshare  lablackhalf  lablackhalfshare  laasianhalf  \\\n",
       "13859          1.440338     1.390006          0.028425     4.604807   \n",
       "\n",
       "       laasianhalfshare  lanhopihalf  lanhopihalfshare  laaianhalf  \\\n",
       "13859          0.094168     0.018225          0.000373     0.32945   \n",
       "\n",
       "       laaianhalfshare  laomultirhalf  laomultirhalfshare  lahisphalf  \\\n",
       "13859         0.006737       3.897334              0.0797     9.20089   \n",
       "\n",
       "       lahisphalfshare  lahunvhalf  lahunvhalfshare  lasnaphalf  \\\n",
       "13859         0.188157    9.260688         0.344776         0.0   \n",
       "\n",
       "       lasnaphalfshare  lapop1  lapop1share  lalowi1  lalowi1share  lakids1  \\\n",
       "13859              0.0     NaN          NaN      NaN           NaN      NaN   \n",
       "\n",
       "       lakids1share  laseniors1  laseniors1share  lawhite1  lawhite1share  \\\n",
       "13859           NaN         NaN              NaN       NaN            NaN   \n",
       "\n",
       "       lablack1  lablack1share  laasian1  laasian1share  lanhopi1  \\\n",
       "13859       NaN            NaN       NaN            NaN       NaN   \n",
       "\n",
       "       lanhopi1share  laaian1  laaian1share  laomultir1  laomultir1share  \\\n",
       "13859            NaN      NaN           NaN         NaN              NaN   \n",
       "\n",
       "       lahisp1  lahisp1share  lahunv1  lahunv1share  lasnap1  lasnap1share  \\\n",
       "13859      NaN           NaN      NaN           NaN      NaN           NaN   \n",
       "\n",
       "       lapop10  lapop10share  lalowi10  lalowi10share  lakids10  \\\n",
       "13859      NaN           NaN       NaN            NaN       NaN   \n",
       "\n",
       "       lakids10share  laseniors10  laseniors10share  lawhite10  \\\n",
       "13859            NaN          NaN               NaN        NaN   \n",
       "\n",
       "       lawhite10share  lablack10  lablack10share  laasian10  laasian10share  \\\n",
       "13859             NaN        NaN             NaN        NaN             NaN   \n",
       "\n",
       "       lanhopi10  lanhopi10share  laaian10  laaian10share  laomultir10  \\\n",
       "13859        NaN             NaN       NaN            NaN          NaN   \n",
       "\n",
       "       laomultir10share  lahisp10  lahisp10share  lahunv10  lahunv10share  \\\n",
       "13859               NaN       NaN            NaN       NaN            NaN   \n",
       "\n",
       "       lasnap10  lasnap10share  lapop20  lapop20share  lalowi20  \\\n",
       "13859       NaN            NaN      NaN           NaN       NaN   \n",
       "\n",
       "       lalowi20share  lakids20  lakids20share  laseniors20  laseniors20share  \\\n",
       "13859            NaN       NaN            NaN          NaN               NaN   \n",
       "\n",
       "       lawhite20  lawhite20share  lablack20  lablack20share  laasian20  \\\n",
       "13859        NaN             NaN        NaN             NaN        NaN   \n",
       "\n",
       "       laasian20share  lanhopi20  lanhopi20share  laaian20  laaian20share  \\\n",
       "13859             NaN        NaN             NaN       NaN            NaN   \n",
       "\n",
       "       laomultir20  laomultir20share  lahisp20  lahisp20share  lahunv20  \\\n",
       "13859          NaN               NaN       NaN            NaN       NaN   \n",
       "\n",
       "       lahunv20share  lasnap20  lasnap20share  tractlowi  tractkids  \\\n",
       "13859            NaN       NaN            NaN      538.0      585.0   \n",
       "\n",
       "       tractseniors  tractwhite  tractblack  tractasian  tractnhopi  \\\n",
       "13859         885.0      4444.0       105.0       201.0         2.0   \n",
       "\n",
       "       tractaian  tractomultir  tracthispanic  tracthunv  tractsnap  lila_0_0  \\\n",
       "13859        9.0         129.0          296.0      440.0        0.0      True   \n",
       "\n",
       "       lila_0_1  lila_1_0  lila_1_1        food_desert_status  \n",
       "13859     False     False     False  remained_food_accessible  "
      ]
     },
     "execution_count": 4,
     "metadata": {},
     "output_type": "execute_result"
    }
   ],
   "source": [
    "df.head(1)"
   ]
  },
  {
   "cell_type": "code",
   "execution_count": null,
   "id": "f70ff847",
   "metadata": {},
   "outputs": [],
   "source": [
    "df['food_desert_status'] = df['food_desert_status'].replace('remained_food_accessible', 0)\n",
    "df['food_desert_status'] = df['food_desert_status'].replace('remained_food_desert', 1)\n",
    "df['food_desert_status'] = df['food_desert_status'].replace('became_food_desert', 2)\n",
    "df['food_desert_status'] = df['food_desert_status'].replace('became_food_accessible', 3)\n"
   ]
  },
  {
   "cell_type": "code",
   "execution_count": null,
   "id": "26f242b5",
   "metadata": {},
   "outputs": [
    {
     "data": {
      "text/plain": [
       "0    111\n",
       "1     42\n",
       "3     19\n",
       "2      7\n",
       "Name: food_desert_status, dtype: int64"
      ]
     },
     "execution_count": 6,
     "metadata": {},
     "output_type": "execute_result"
    }
   ],
   "source": [
    "df['food_desert_status'].value_counts()"
   ]
  },
  {
   "cell_type": "code",
   "execution_count": null,
   "id": "817ac5bc",
   "metadata": {},
   "outputs": [],
   "source": [
    "X = df[['urban','pop2010','povertyrate']]\n",
    "y = df['food_desert_status']\n",
    "\n",
    "X_train, X_test, y_train, y_test = train_test_split(X, y, random_state=1)"
   ]
  },
  {
   "cell_type": "code",
   "execution_count": null,
   "id": "14ef2a2f",
   "metadata": {},
   "outputs": [
    {
     "data": {
      "text/plain": [
       "0.018866397475274632"
      ]
     },
     "execution_count": 8,
     "metadata": {},
     "output_type": "execute_result"
    }
   ],
   "source": [
    "lr = LinearRegression()\n",
    "\n",
    "lr.fit(X_train, y_train)\n",
    "lr.score(X_test, y_test)"
   ]
  },
  {
   "cell_type": "markdown",
   "id": "9490279e-e8c8-4d39-836b-487c5a75636a",
   "metadata": {},
   "source": [
    "### Logistic Regression\n",
    "---"
   ]
  },
  {
   "cell_type": "code",
   "execution_count": null,
   "id": "b217ad4a-0228-4ede-8a81-e8a3e1cc3ccf",
   "metadata": {},
   "outputs": [],
   "source": [
    "df = pd.read_csv('../output_data/data_2019_dc_1and10_CDC_cleaned.csv', index_col=0)"
   ]
  },
  {
   "cell_type": "code",
   "execution_count": null,
   "id": "21824251-3d1a-4bcc-8015-51b9f594f842",
   "metadata": {},
   "outputs": [],
   "source": [
    "df['food_desert_status'] = df['food_desert_status'].replace('remained_food_accessible', 0)\n",
    "df['food_desert_status'] = df['food_desert_status'].replace('remained_food_desert', 1)\n",
    "df['food_desert_status'] = df['food_desert_status'].replace('became_food_desert', 2)\n",
    "df['food_desert_status'] = df['food_desert_status'].replace('became_food_accessible', 3)"
   ]
  },
  {
   "cell_type": "code",
   "execution_count": null,
   "id": "f6e045c8-cac0-4217-b3d5-9e4f47ffbcc8",
   "metadata": {},
   "outputs": [],
   "source": [
    "df['status_2019'] = np.where(((df['food_desert_status']==0) | (df['food_desert_status']==3)), 'accessible', 'desert')"
   ]
  },
  {
   "cell_type": "code",
   "execution_count": null,
   "id": "eb4fb850-1ecb-45d5-9f2b-72551fd2ab5a",
   "metadata": {},
   "outputs": [],
   "source": [
    "race_cols = ['tractwhite', 'tractblack', 'tractasian', 'tractomultir', 'tracthispanic', 'tractnhopi', 'tractaian']"
   ]
  },
  {
   "cell_type": "code",
   "execution_count": null,
   "id": "a36afa46-ca57-40c9-ba7e-8b49d6e2b10f",
   "metadata": {},
   "outputs": [],
   "source": [
    "df[race_cols + ['tracthunv', 'tractsnap']] = df[race_cols +['tracthunv', 'tractsnap']].apply(lambda x: x/df[race_cols].sum(axis=1))"
   ]
  },
  {
   "cell_type": "code",
   "execution_count": null,
   "id": "96497f49-c631-460d-aba8-3c7dee9527a8",
   "metadata": {},
   "outputs": [],
   "source": []
  },
  {
   "cell_type": "code",
   "execution_count": null,
   "id": "7efab81b-a9fd-45af-a1e7-4f91fc87ef98",
   "metadata": {},
   "outputs": [],
   "source": [
    "X = df[['bp','chd','chol','diab','obes','mhlth']+race_cols]\n",
    "y = df['status_2019']\n",
    "\n",
    "X_train, X_test, y_train, y_test = train_test_split(X, y, random_state=1)"
   ]
  },
  {
   "cell_type": "code",
   "execution_count": null,
   "id": "6993df39-091a-4d3a-933a-91e0d112cae8",
   "metadata": {},
   "outputs": [
    {
     "data": {
      "text/plain": [
       "accessible    0.932961\n",
       "desert        0.067039\n",
       "Name: status_2019, dtype: float64"
      ]
     },
     "execution_count": 122,
     "metadata": {},
     "output_type": "execute_result"
    }
   ],
   "source": [
    "y.value_counts(normalize=1)"
   ]
  },
  {
   "cell_type": "code",
   "execution_count": null,
   "id": "82911449-1047-40ac-8761-1490e997de75",
   "metadata": {},
   "outputs": [
    {
     "data": {
      "text/html": [
       "<div>\n",
       "<style scoped>\n",
       "    .dataframe tbody tr th:only-of-type {\n",
       "        vertical-align: middle;\n",
       "    }\n",
       "\n",
       "    .dataframe tbody tr th {\n",
       "        vertical-align: top;\n",
       "    }\n",
       "\n",
       "    .dataframe thead th {\n",
       "        text-align: right;\n",
       "    }\n",
       "</style>\n",
       "<table border=\"1\" class=\"dataframe\">\n",
       "  <thead>\n",
       "    <tr style=\"text-align: right;\">\n",
       "      <th></th>\n",
       "      <th>bp</th>\n",
       "      <th>chd</th>\n",
       "      <th>chol</th>\n",
       "      <th>diab</th>\n",
       "      <th>obes</th>\n",
       "      <th>mhlth</th>\n",
       "      <th>tractwhite</th>\n",
       "      <th>tractblack</th>\n",
       "      <th>tractasian</th>\n",
       "      <th>tractomultir</th>\n",
       "      <th>tracthispanic</th>\n",
       "      <th>tractnhopi</th>\n",
       "      <th>tractaian</th>\n",
       "    </tr>\n",
       "  </thead>\n",
       "  <tbody>\n",
       "    <tr>\n",
       "      <th>153</th>\n",
       "      <td>0.0245</td>\n",
       "      <td>0.0022</td>\n",
       "      <td>0.0105</td>\n",
       "      <td>0.0049</td>\n",
       "      <td>0.0125</td>\n",
       "      <td>0.0054</td>\n",
       "      <td>0.006232</td>\n",
       "      <td>0.96541</td>\n",
       "      <td>0.001246</td>\n",
       "      <td>0.013711</td>\n",
       "      <td>0.009972</td>\n",
       "      <td>0.001558</td>\n",
       "      <td>0.00187</td>\n",
       "    </tr>\n",
       "  </tbody>\n",
       "</table>\n",
       "</div>"
      ],
      "text/plain": [
       "         bp     chd    chol    diab    obes   mhlth  tractwhite  tractblack  \\\n",
       "153  0.0245  0.0022  0.0105  0.0049  0.0125  0.0054    0.006232     0.96541   \n",
       "\n",
       "     tractasian  tractomultir  tracthispanic  tractnhopi  tractaian  \n",
       "153    0.001246      0.013711       0.009972    0.001558    0.00187  "
      ]
     },
     "execution_count": 123,
     "metadata": {},
     "output_type": "execute_result"
    }
   ],
   "source": [
    "X_train[:1]"
   ]
  },
  {
   "cell_type": "code",
   "execution_count": null,
   "id": "585625e4-785f-402c-8606-7a5b0bc257d0",
   "metadata": {},
   "outputs": [],
   "source": [
    "pipe = Pipeline([\n",
    "    ('inp', SimpleImputer()),\n",
    "    ('ss', StandardScaler()),\n",
    "    ('lor', LogisticRegressionCV(max_iter=10_000)),\n",
    "])"
   ]
  },
  {
   "cell_type": "code",
   "execution_count": null,
   "id": "3b65c79c-128e-45c4-9f16-5495179b05f3",
   "metadata": {},
   "outputs": [
    {
     "data": {
      "text/html": [
       "<style>#sk-container-id-5 {color: black;background-color: white;}#sk-container-id-5 pre{padding: 0;}#sk-container-id-5 div.sk-toggleable {background-color: white;}#sk-container-id-5 label.sk-toggleable__label {cursor: pointer;display: block;width: 100%;margin-bottom: 0;padding: 0.3em;box-sizing: border-box;text-align: center;}#sk-container-id-5 label.sk-toggleable__label-arrow:before {content: \"▸\";float: left;margin-right: 0.25em;color: #696969;}#sk-container-id-5 label.sk-toggleable__label-arrow:hover:before {color: black;}#sk-container-id-5 div.sk-estimator:hover label.sk-toggleable__label-arrow:before {color: black;}#sk-container-id-5 div.sk-toggleable__content {max-height: 0;max-width: 0;overflow: hidden;text-align: left;background-color: #f0f8ff;}#sk-container-id-5 div.sk-toggleable__content pre {margin: 0.2em;color: black;border-radius: 0.25em;background-color: #f0f8ff;}#sk-container-id-5 input.sk-toggleable__control:checked~div.sk-toggleable__content {max-height: 200px;max-width: 100%;overflow: auto;}#sk-container-id-5 input.sk-toggleable__control:checked~label.sk-toggleable__label-arrow:before {content: \"▾\";}#sk-container-id-5 div.sk-estimator input.sk-toggleable__control:checked~label.sk-toggleable__label {background-color: #d4ebff;}#sk-container-id-5 div.sk-label input.sk-toggleable__control:checked~label.sk-toggleable__label {background-color: #d4ebff;}#sk-container-id-5 input.sk-hidden--visually {border: 0;clip: rect(1px 1px 1px 1px);clip: rect(1px, 1px, 1px, 1px);height: 1px;margin: -1px;overflow: hidden;padding: 0;position: absolute;width: 1px;}#sk-container-id-5 div.sk-estimator {font-family: monospace;background-color: #f0f8ff;border: 1px dotted black;border-radius: 0.25em;box-sizing: border-box;margin-bottom: 0.5em;}#sk-container-id-5 div.sk-estimator:hover {background-color: #d4ebff;}#sk-container-id-5 div.sk-parallel-item::after {content: \"\";width: 100%;border-bottom: 1px solid gray;flex-grow: 1;}#sk-container-id-5 div.sk-label:hover label.sk-toggleable__label {background-color: #d4ebff;}#sk-container-id-5 div.sk-serial::before {content: \"\";position: absolute;border-left: 1px solid gray;box-sizing: border-box;top: 0;bottom: 0;left: 50%;z-index: 0;}#sk-container-id-5 div.sk-serial {display: flex;flex-direction: column;align-items: center;background-color: white;padding-right: 0.2em;padding-left: 0.2em;position: relative;}#sk-container-id-5 div.sk-item {position: relative;z-index: 1;}#sk-container-id-5 div.sk-parallel {display: flex;align-items: stretch;justify-content: center;background-color: white;position: relative;}#sk-container-id-5 div.sk-item::before, #sk-container-id-5 div.sk-parallel-item::before {content: \"\";position: absolute;border-left: 1px solid gray;box-sizing: border-box;top: 0;bottom: 0;left: 50%;z-index: -1;}#sk-container-id-5 div.sk-parallel-item {display: flex;flex-direction: column;z-index: 1;position: relative;background-color: white;}#sk-container-id-5 div.sk-parallel-item:first-child::after {align-self: flex-end;width: 50%;}#sk-container-id-5 div.sk-parallel-item:last-child::after {align-self: flex-start;width: 50%;}#sk-container-id-5 div.sk-parallel-item:only-child::after {width: 0;}#sk-container-id-5 div.sk-dashed-wrapped {border: 1px dashed gray;margin: 0 0.4em 0.5em 0.4em;box-sizing: border-box;padding-bottom: 0.4em;background-color: white;}#sk-container-id-5 div.sk-label label {font-family: monospace;font-weight: bold;display: inline-block;line-height: 1.2em;}#sk-container-id-5 div.sk-label-container {text-align: center;}#sk-container-id-5 div.sk-container {/* jupyter's `normalize.less` sets `[hidden] { display: none; }` but bootstrap.min.css set `[hidden] { display: none !important; }` so we also need the `!important` here to be able to override the default hidden behavior on the sphinx rendered scikit-learn.org. See: https://github.com/scikit-learn/scikit-learn/issues/21755 */display: inline-block !important;position: relative;}#sk-container-id-5 div.sk-text-repr-fallback {display: none;}</style><div id=\"sk-container-id-5\" class=\"sk-top-container\"><div class=\"sk-text-repr-fallback\"><pre>Pipeline(steps=[(&#x27;inp&#x27;, SimpleImputer()), (&#x27;ss&#x27;, StandardScaler()),\n",
       "                (&#x27;lor&#x27;, LogisticRegressionCV(max_iter=10000))])</pre><b>In a Jupyter environment, please rerun this cell to show the HTML representation or trust the notebook. <br />On GitHub, the HTML representation is unable to render, please try loading this page with nbviewer.org.</b></div><div class=\"sk-container\" hidden><div class=\"sk-item sk-dashed-wrapped\"><div class=\"sk-label-container\"><div class=\"sk-label sk-toggleable\"><input class=\"sk-toggleable__control sk-hidden--visually\" id=\"sk-estimator-id-11\" type=\"checkbox\" ><label for=\"sk-estimator-id-11\" class=\"sk-toggleable__label sk-toggleable__label-arrow\">Pipeline</label><div class=\"sk-toggleable__content\"><pre>Pipeline(steps=[(&#x27;inp&#x27;, SimpleImputer()), (&#x27;ss&#x27;, StandardScaler()),\n",
       "                (&#x27;lor&#x27;, LogisticRegressionCV(max_iter=10000))])</pre></div></div></div><div class=\"sk-serial\"><div class=\"sk-item\"><div class=\"sk-estimator sk-toggleable\"><input class=\"sk-toggleable__control sk-hidden--visually\" id=\"sk-estimator-id-12\" type=\"checkbox\" ><label for=\"sk-estimator-id-12\" class=\"sk-toggleable__label sk-toggleable__label-arrow\">SimpleImputer</label><div class=\"sk-toggleable__content\"><pre>SimpleImputer()</pre></div></div></div><div class=\"sk-item\"><div class=\"sk-estimator sk-toggleable\"><input class=\"sk-toggleable__control sk-hidden--visually\" id=\"sk-estimator-id-13\" type=\"checkbox\" ><label for=\"sk-estimator-id-13\" class=\"sk-toggleable__label sk-toggleable__label-arrow\">StandardScaler</label><div class=\"sk-toggleable__content\"><pre>StandardScaler()</pre></div></div></div><div class=\"sk-item\"><div class=\"sk-estimator sk-toggleable\"><input class=\"sk-toggleable__control sk-hidden--visually\" id=\"sk-estimator-id-14\" type=\"checkbox\" ><label for=\"sk-estimator-id-14\" class=\"sk-toggleable__label sk-toggleable__label-arrow\">LogisticRegressionCV</label><div class=\"sk-toggleable__content\"><pre>LogisticRegressionCV(max_iter=10000)</pre></div></div></div></div></div></div></div>"
      ],
      "text/plain": [
       "Pipeline(steps=[('inp', SimpleImputer()), ('ss', StandardScaler()),\n",
       "                ('lor', LogisticRegressionCV(max_iter=10000))])"
      ]
     },
     "execution_count": 125,
     "metadata": {},
     "output_type": "execute_result"
    }
   ],
   "source": [
    "pipe.fit(X_train, y_train)"
   ]
  },
  {
   "cell_type": "code",
   "execution_count": null,
   "id": "90c38746-654e-4d4e-8367-87ef4fa0e23d",
   "metadata": {},
   "outputs": [
    {
     "data": {
      "text/plain": [
       "0.9328358208955224"
      ]
     },
     "execution_count": 126,
     "metadata": {},
     "output_type": "execute_result"
    }
   ],
   "source": [
    "pipe.score(X_train, y_train)"
   ]
  },
  {
   "cell_type": "code",
   "execution_count": null,
   "id": "44809857-9492-4a59-9532-23333b1d5ef6",
   "metadata": {},
   "outputs": [
    {
     "data": {
      "text/plain": [
       "array(['bp', 'chd', 'chol', 'diab', 'obes', 'mhlth', 'tractwhite',\n",
       "       'tractblack', 'tractasian', 'tractomultir', 'tracthispanic',\n",
       "       'tractnhopi', 'tractaian'], dtype=object)"
      ]
     },
     "execution_count": 127,
     "metadata": {},
     "output_type": "execute_result"
    }
   ],
   "source": [
    "pipe.feature_names_in_"
   ]
  },
  {
   "cell_type": "code",
   "execution_count": null,
   "id": "75024efd-0e87-499e-97f0-5ed1802680f4",
   "metadata": {},
   "outputs": [],
   "source": [
    "coef = pd.DataFrame(pipe.named_steps.lor.coef_, columns=pipe.feature_names_in_ ).T\n",
    "coef = coef.sort_values(0)"
   ]
  },
  {
   "cell_type": "code",
   "execution_count": null,
   "id": "810d8dac-3dda-4d0a-9b13-e8e7bd8a4316",
   "metadata": {},
   "outputs": [
    {
     "data": {
      "image/png": "[encoded data removed]",
      "text/plain": [
       "<Figure size 720x576 with 1 Axes>"
      ]
     },
     "metadata": {
      "needs_background": "light"
     },
     "output_type": "display_data"
    }
   ],
   "source": [
    "plt.figure(figsize=(10, 8))\n",
    "sns.barplot(x=coef.index, y=coef[0])\n",
    "plt.ylabel('coef')\n",
    "plt.title('feature importance')\n",
    "plt.xticks(rotation=45);\n",
    "# sns.barplot(x=df_small['status_2019'], y=df_small['tractblack'])\n",
    "# plt.xticks(rotation=45);"
   ]
  },
  {
   "cell_type": "code",
   "execution_count": null,
   "id": "62ceb701-4bf5-42ec-9256-968fe60fb473",
   "metadata": {},
   "outputs": [],
   "source": [
    "temp = df[race_cols+['food_desert_status']+['bp','chd', 'chol', 'diab', 'obes', 'mhlth']]"
   ]
  },
  {
   "cell_type": "code",
   "execution_count": null,
   "id": "440cd52e-c258-47f8-a65f-12b0a8e3cfc8",
   "metadata": {},
   "outputs": [
    {
     "name": "stderr",
     "output_type": "stream",
     "text": [
      "/var/folders/jt/s7p01j9n62n0rvqd01ng02b00000gn/T/ipykernel_69873/3391448398.py:1: SettingWithCopyWarning: \n",
      "A value is trying to be set on a copy of a slice from a DataFrame.\n",
      "Try using .loc[row_indexer,col_indexer] = value instead\n",
      "\n",
      "See the caveats in the documentation: https://pandas.pydata.org/pandas-docs/stable/user_guide/indexing.html#returning-a-view-versus-a-copy\n",
      "  temp['status_2019'] = df['status_2019']\n"
     ]
    }
   ],
   "source": [
    "temp['status_2019'] = df['status_2019']"
   ]
  },
  {
   "cell_type": "code",
   "execution_count": null,
   "id": "d7e6d7da-e6da-4c1a-b51b-104b31df8eb2",
   "metadata": {},
   "outputs": [],
   "source": [
    "temp.to_csv('../output_data/data_2019_dc_1and10_CDC_cleaned_small.csv')"
   ]
  },
  {
   "cell_type": "code",
   "execution_count": null,
   "id": "f6d9480c-b1ac-408d-b007-c0dac1d91a47",
   "metadata": {},
   "outputs": [],
   "source": []
  }
 ],
 "metadata": {
  "kernelspec": {
   "display_name": "Python 3 (ipykernel)",
   "language": "python",
   "name": "python3"
  },
  "language_info": {
   "codemirror_mode": {
    "name": "ipython",
    "version": 3
   },
   "file_extension": ".py",
   "mimetype": "text/x-python",
   "name": "python",
   "nbconvert_exporter": "python",
   "pygments_lexer": "ipython3",
   "version": "3.10.4"
  }
 },
 "nbformat": 4,
 "nbformat_minor": 5
}
