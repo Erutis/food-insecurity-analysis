{
 "cells": [
  {
   "cell_type": "markdown",
   "id": "c86a09d2",
   "metadata": {},
   "source": [
    "# 3. Modeling"
   ]
  },
  {
   "cell_type": "markdown",
   "id": "24141c40",
   "metadata": {},
   "source": [
    "In case we need to, here's the start of a terrible model."
   ]
  },
  {
   "cell_type": "code",
   "execution_count": 18,
   "id": "6d015a0c",
   "metadata": {},
   "outputs": [],
   "source": [
    "import pandas as pd\n",
    "import numpy as np\n",
    "import seaborn as sns\n",
    "\n",
    "from sklearn.model_selection import train_test_split\n",
    "from sklearn.linear_model import LinearRegression"
   ]
  },
  {
   "cell_type": "code",
   "execution_count": 14,
   "id": "4d3d676f",
   "metadata": {},
   "outputs": [],
   "source": [
    "df = pd.read_csv('../output_data/data_2010_dc_halfand10_cleaned.csv', index_col=0)"
   ]
  },
  {
   "cell_type": "code",
   "execution_count": 15,
   "id": "553f880e",
   "metadata": {},
   "outputs": [
    {
     "data": {
      "text/html": [
       "<div>\n",
       "<style scoped>\n",
       "    .dataframe tbody tr th:only-of-type {\n",
       "        vertical-align: middle;\n",
       "    }\n",
       "\n",
       "    .dataframe tbody tr th {\n",
       "        vertical-align: top;\n",
       "    }\n",
       "\n",
       "    .dataframe thead th {\n",
       "        text-align: right;\n",
       "    }\n",
       "</style>\n",
       "<table border=\"1\" class=\"dataframe\">\n",
       "  <thead>\n",
       "    <tr style=\"text-align: right;\">\n",
       "      <th></th>\n",
       "      <th>censustract</th>\n",
       "      <th>state</th>\n",
       "      <th>county</th>\n",
       "      <th>urban</th>\n",
       "      <th>pop2010</th>\n",
       "      <th>ohu2010</th>\n",
       "      <th>groupquartersflag</th>\n",
       "      <th>numgqtrs</th>\n",
       "      <th>pctgqtrs</th>\n",
       "      <th>lilatracts_1and10</th>\n",
       "      <th>...</th>\n",
       "      <th>tractaian</th>\n",
       "      <th>tractomultir</th>\n",
       "      <th>tracthispanic</th>\n",
       "      <th>tracthunv</th>\n",
       "      <th>tractsnap</th>\n",
       "      <th>lila_0_0</th>\n",
       "      <th>lila_0_1</th>\n",
       "      <th>lila_1_0</th>\n",
       "      <th>lila_1_1</th>\n",
       "      <th>food_desert_status</th>\n",
       "    </tr>\n",
       "  </thead>\n",
       "  <tbody>\n",
       "    <tr>\n",
       "      <th>13859</th>\n",
       "      <td>11001000100</td>\n",
       "      <td>District of Columbia</td>\n",
       "      <td>District of Columbia</td>\n",
       "      <td>1</td>\n",
       "      <td>4890</td>\n",
       "      <td>2686</td>\n",
       "      <td>0</td>\n",
       "      <td>24.0</td>\n",
       "      <td>0.490798</td>\n",
       "      <td>0</td>\n",
       "      <td>...</td>\n",
       "      <td>9.0</td>\n",
       "      <td>129.0</td>\n",
       "      <td>296.0</td>\n",
       "      <td>440.0</td>\n",
       "      <td>0.0</td>\n",
       "      <td>True</td>\n",
       "      <td>False</td>\n",
       "      <td>False</td>\n",
       "      <td>False</td>\n",
       "      <td>remained_food_accessible</td>\n",
       "    </tr>\n",
       "  </tbody>\n",
       "</table>\n",
       "<p>1 rows × 152 columns</p>\n",
       "</div>"
      ],
      "text/plain": [
       "       censustract                 state                county  urban  \\\n",
       "13859  11001000100  District of Columbia  District of Columbia      1   \n",
       "\n",
       "       pop2010  ohu2010  groupquartersflag  numgqtrs  pctgqtrs  \\\n",
       "13859     4890     2686                  0      24.0  0.490798   \n",
       "\n",
       "       lilatracts_1and10  ...  tractaian  tractomultir  tracthispanic  \\\n",
       "13859                  0  ...        9.0         129.0          296.0   \n",
       "\n",
       "       tracthunv  tractsnap  lila_0_0  lila_0_1  lila_1_0  lila_1_1  \\\n",
       "13859      440.0        0.0      True     False     False     False   \n",
       "\n",
       "             food_desert_status  \n",
       "13859  remained_food_accessible  \n",
       "\n",
       "[1 rows x 152 columns]"
      ]
     },
     "execution_count": 15,
     "metadata": {},
     "output_type": "execute_result"
    }
   ],
   "source": [
    "df.head(1)"
   ]
  },
  {
   "cell_type": "code",
   "execution_count": 24,
   "id": "f70ff847",
   "metadata": {},
   "outputs": [],
   "source": [
    "df['food_desert_status'] = df['food_desert_status'].replace('remained_food_accessible', 0)\n",
    "df['food_desert_status'] = df['food_desert_status'].replace('remained_food_desert', 1)\n",
    "df['food_desert_status'] = df['food_desert_status'].replace('became_food_desert', 2)\n",
    "df['food_desert_status'] = df['food_desert_status'].replace('became_food_accessible', 3)\n"
   ]
  },
  {
   "cell_type": "code",
   "execution_count": 25,
   "id": "26f242b5",
   "metadata": {},
   "outputs": [
    {
     "data": {
      "text/plain": [
       "0    111\n",
       "1     42\n",
       "3     19\n",
       "2      7\n",
       "Name: food_desert_status, dtype: int64"
      ]
     },
     "execution_count": 25,
     "metadata": {},
     "output_type": "execute_result"
    }
   ],
   "source": [
    "df['food_desert_status'].value_counts()"
   ]
  },
  {
   "cell_type": "code",
   "execution_count": 30,
   "id": "817ac5bc",
   "metadata": {},
   "outputs": [],
   "source": [
    "X = df[['urban','pop2010','povertyrate']]\n",
    "y = df['food_desert_status']\n",
    "\n",
    "X_train, X_test, y_train, y_test = train_test_split(X, y, random_state=1)"
   ]
  },
  {
   "cell_type": "code",
   "execution_count": 31,
   "id": "14ef2a2f",
   "metadata": {},
   "outputs": [
    {
     "data": {
      "text/plain": [
       "0.018866397475274632"
      ]
     },
     "execution_count": 31,
     "metadata": {},
     "output_type": "execute_result"
    }
   ],
   "source": [
    "lr = LinearRegression()\n",
    "\n",
    "lr.fit(X_train, y_train)\n",
    "lr.score(X_test, y_test)"
   ]
  },
  {
   "cell_type": "code",
   "execution_count": null,
   "id": "7989b7c9",
   "metadata": {},
   "outputs": [],
   "source": []
  }
 ],
 "metadata": {
  "kernelspec": {
   "display_name": "Python 3 (ipykernel)",
   "language": "python",
   "name": "python3"
  },
  "language_info": {
   "codemirror_mode": {
    "name": "ipython",
    "version": 3
   },
   "file_extension": ".py",
   "mimetype": "text/x-python",
   "name": "python",
   "nbconvert_exporter": "python",
   "pygments_lexer": "ipython3",
   "version": "3.10.4"
  }
 },
 "nbformat": 4,
 "nbformat_minor": 5
}
